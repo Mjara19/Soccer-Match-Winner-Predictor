{
 "cells": [
  {
   "cell_type": "code",
   "execution_count": 1,
   "metadata": {},
   "outputs": [],
   "source": [
    "import requests\n",
    "import time\n",
    "import pandas as pd\n",
    "from bs4 import BeautifulSoup"
   ]
  },
  {
   "cell_type": "code",
   "execution_count": 2,
   "metadata": {},
   "outputs": [],
   "source": [
    "years = list(range(2024, 2020,-1))"
   ]
  },
  {
   "cell_type": "code",
   "execution_count": 3,
   "metadata": {},
   "outputs": [],
   "source": [
    "all_matches = []"
   ]
  },
  {
   "cell_type": "code",
   "execution_count": 4,
   "metadata": {},
   "outputs": [],
   "source": [
    "standings_url = \"https://fbref.com/en/comps/8/Champions-League-Stats\""
   ]
  },
  {
   "cell_type": "code",
   "execution_count": null,
   "metadata": {},
   "outputs": [],
   "source": [
    "# Loop through each season we want to analyze\n",
    "for season in years:\n",
    "    # Add delay to avoid overwhelming the server\n",
    "    time.sleep(3)\n",
    "    response = requests.get(standings_url)\n",
    "    soup_data = BeautifulSoup(response.text)\n",
    "\n",
    "    # Handle different table positions based on season\n",
    "    # 2024 season has a different table structure than previous years\n",
    "    if season == 2024:\n",
    "        stats_table = soup_data.select('table.stats_table')[0]\n",
    "    else:\n",
    "        stats_table = soup_data.select('table.stats_table')[8]\n",
    "\n",
    "    # Extract team URLs from the standings table\n",
    "    href_links = [link.get(\"href\") for link in stats_table.find_all('a')]\n",
    "    filtered_links = [link for link in href_links if '/squads/' in link]\n",
    "    team_pages = [f\"https://fbref.com{link}\" for link in filtered_links]\n",
    "\n",
    "    # Get URL for the previous season's standings\n",
    "    prev_season_link = soup_data.select(\"a.prev\")[0].get(\"href\")\n",
    "    standings_url = f\"https://fbref.com{prev_season_link}\"\n",
    "\n",
    "    # Loop through each team's URL to get their match data\n",
    "    for page_url in team_pages:\n",
    "        time.sleep(3)\n",
    "        # Extract team name from URL\n",
    "        club_name = page_url.split(\"/\")[-1].replace(\"-Stats\", \"\").replace(\"-\", \" \")\n",
    "        team_response = requests.get(page_url)\n",
    "        \n",
    "        # Get basic match data\n",
    "        match_data = pd.read_html(team_response.text, match=\"Scores & Fixtures\")[0]\n",
    "        soup_team = BeautifulSoup(team_response.text)\n",
    "\n",
    "        # Find link to shooting stats\n",
    "        all_links = [link.get(\"href\") for link in soup_team.find_all('a')]\n",
    "        shooting_links = [link for link in all_links if link and 'all_comps/shooting/' in link]\n",
    "\n",
    "        # Get shooting statistics\n",
    "        time.sleep(3)\n",
    "        shooting_response = requests.get(f\"https://fbref.com{shooting_links[0]}\")\n",
    "        shooting_data = pd.read_html(shooting_response.text, match=\"Shooting\")[0]\n",
    "        shooting_data.columns = shooting_data.columns.droplevel()\n",
    "\n",
    "        # Merge match data with shooting data\n",
    "        try:\n",
    "            combined_data = match_data.merge(\n",
    "                shooting_data[[\"Date\", \"Sh\", \"SoT\", \"Dist\", \"FK\", \"PK\", \"PKatt\"]], on=\"Date\"\n",
    "            )\n",
    "        except ValueError:\n",
    "            continue\n",
    "\n",
    "        # Filter for Champions League matches only\n",
    "        combined_data = combined_data[combined_data[\"Comp\"] == \"Champions Lg\"]\n",
    "\n",
    "        # Clean up opponent names\n",
    "        combined_data[\"Opponent\"] = combined_data[\"Opponent\"].str.strip()\n",
    "        combined_data[\"Opponent\"] = combined_data[\"Opponent\"].str.replace(r'^[a-z]{2,}\\s+', '', regex=True)\n",
    "        combined_data[\"Opponent\"] = combined_data[\"Opponent\"].str.title()\n",
    "\n",
    "        # Add season and team name columns\n",
    "        combined_data[\"Season\"] = season\n",
    "        combined_data[\"Team\"] = club_name\n",
    "\n",
    "        # Append to all_matches list\n",
    "        all_matches.append(combined_data)\n",
    "        time.sleep(3)"
   ]
  },
  {
   "cell_type": "code",
   "execution_count": null,
   "metadata": {},
   "outputs": [],
   "source": [
    "match_df = pd.concat(all_matches)"
   ]
  },
  {
   "cell_type": "code",
   "execution_count": 33,
   "metadata": {},
   "outputs": [],
   "source": [
    "match_df.columns = [c.lower() for c in match_df.columns]"
   ]
  },
  {
   "cell_type": "code",
   "execution_count": 36,
   "metadata": {},
   "outputs": [],
   "source": [
    "match_df.to_csv(\"matches.csv\")"
   ]
  }
 ],
 "metadata": {
  "kernelspec": {
   "display_name": "Python 3",
   "language": "python",
   "name": "python3"
  },
  "language_info": {
   "codemirror_mode": {
    "name": "ipython",
    "version": 3
   },
   "file_extension": ".py",
   "mimetype": "text/x-python",
   "name": "python",
   "nbconvert_exporter": "python",
   "pygments_lexer": "ipython3",
   "version": "3.13.1"
  }
 },
 "nbformat": 4,
 "nbformat_minor": 2
}
